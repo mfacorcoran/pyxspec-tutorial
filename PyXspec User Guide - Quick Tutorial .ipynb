{
 "cells": [
  {
   "cell_type": "markdown",
   "metadata": {},
   "source": [
    "*Some Standard Python Imports*\n"
   ]
  },
  {
   "cell_type": "code",
   "execution_count": 5,
   "metadata": {},
   "outputs": [],
   "source": [
    "%matplotlib inline\n",
    "\n",
    "import matplotlib\n",
    "import numpy as np\n",
    "import matplotlib.pyplot as plt"
   ]
  },
  {
   "cell_type": "markdown",
   "metadata": {},
   "source": [
    "# ``PyXspec`` Tutorial - Quick Version\n",
    "\n",
    "This assumes the user already has a basic familiarity with both <a href=\"https://heasarc.gsfc.nasa.gov/docs/xanadu/xspec/index.html\">``XSPEC``</a> and Python. Everything in ``PyXspec`` is accessible by importing the package xspec into your Python script.\n",
    "\n",
    "``PyXspec`` can be utilized in a Python script or from the command line of the plain interactive Python interpreter. ``PyXspec`` does not implement its own command handler, so it is NOT intended to be run as the Python equivalent of a traditional interactive XSPEC session (which is really an enhanced interactive Tcl interpreter). In other words you launch an interactive PyXspec session with:\n",
    "\n",
    "```\n",
    "UNIX>python\n",
    ">>> import xspec\n",
    ">>>\n",
    "\n",
    "rather than:\n",
    "\n",
    "UNIX>xspec\n",
    "XSPEC12>\n",
    "```\n",
    "\n",
    "**A Note on Nomenclature**: While the python version of ``xspec`` is sometimes referred to as ``Pyxspec``, the actual python package name is ``xspec``.  ``XSPEC`` refers to the standard (non-Python) command-line ``XSPEC`` software analysis suite.\n"
   ]
  },
  {
   "cell_type": "markdown",
   "metadata": {},
   "source": [
    "# Importing the ``xspec`` package"
   ]
  },
  {
   "cell_type": "code",
   "execution_count": 6,
   "metadata": {},
   "outputs": [],
   "source": [
    "import xspec"
   ]
  },
  {
   "cell_type": "markdown",
   "metadata": {},
   "source": [
    "## Notes on Running ``PyXspec`` in a Jupyter Notebook\n",
    "    \n",
    "As noted above, PyXspec does not implement its own command handler.  This has implications when\n",
    "running the ``xspec`` package in a ``Jupyter notebook`` (like this one).  When running an ``xspec`` session in a notebook, the  output from the python xspec package is by\n",
    "default written to the terminal window from which you\n",
    "opened the notebook. A work-around is to use the ``sys_pipes()`` function from the <a href=\"https://pypi.org/project/wurlitzer/\">``wurlitzer``</a> Python package, which will capture information being written to ``STDOUT`` (i.e. the terminal) and re-direct it to display in the notebook.\n",
    "\n",
    "In addition, interactive prompts are not handled correctly.  To avoid\n",
    "the problem with interactive ``xspec`` prompts, you should turn off prompting by setting \n",
    "\n",
    "``xspec.Xset.allowPrompting = False``\n",
    "\n",
    "(note that you do not need to set ``xspec.Xset.allowPrompting = False`` if you are using ``pyxspec`` from the command line in a terminal window.)"
   ]
  },
  {
   "cell_type": "code",
   "execution_count": 7,
   "metadata": {},
   "outputs": [],
   "source": [
    "xspec.Xset.allowPrompting = False # keeps pyxspec from hanging, waiting for a response to a prompt"
   ]
  },
  {
   "cell_type": "markdown",
   "metadata": {},
   "source": [
    "----\n",
    "## Jumping In - The Really Quick Version\n",
    "\n",
    "A simple Xspec load-fit-plot Python script may look something like this:\n",
    "```\n",
    "#!/usr/bin/python\n",
    "from xspec import *\n",
    "\n",
    "Spectrum(\"file1.pha\")\n",
    "Model(\"wabs*pow\")\n",
    "Fit.perform()\n",
    "Plot.device =\"/xs\"\n",
    "Plot(\"data\")\n",
    "```\n",
    "\n",
    "Keeping this template in mind, we'll proceed to fill in the details..."
   ]
  },
  {
   "cell_type": "markdown",
   "metadata": {},
   "source": [
    "# Some Details\n",
    "\n",
    "## Terminology\n",
    "\n",
    "This description uses the standard Python object-oriented terminology, distinguishing between classes and objects. Class is used when referring to the type or definition of an object. An object refers to a specific instance of a class and is normally assigned to a variable. For example a user may load 3 data files by creating 3 spectral data objects s1, s2, and s3, which are all instances of the class `Spectrum`.\n",
    "\n",
    "The functions and stored data members that make up the definition of a class are referred to as methods and attributes respectively.\n",
    "\n",
    "The term Standard XSPEC refers to the traditional ways of using XSPEC, either with a Tcl script or an interactive, command-line XSPEC session.\n",
    "\n",
    "## The 6 Global Objects\n",
    "\n",
    "An ``XSPEC`` session fundamentally consists of loading data, fitting that data to a model, and plotting the results. To manage these operations, ``PyXspec`` offers the user 6 global objects: ``AllChains``, ``AllData``, ``AllModels``, ``Fit``, ``Plot``, and ``Xset``. Note that these are NOT the names of classes. They are instantiated objects of the class types shown in Table 1.\n",
    "\n",
    "\n",
    "<table>\n",
    "<caption align=\"bottom\">Table 1. PyXspec global objects</caption>\n",
    "<tr bgcolor=\"9F90B9\">\n",
    "<th>Object Name </th><th>Class </th><th>Role  </th></tr>\n",
    "<tr>\n",
    "<td><em>AllChains</em> </td><td><b>ChainManager</b> </td><td>Monte Carlo Markov Chain container  </td></tr>\n",
    "<tr>\n",
    "<td><em>AllData</em> </td><td><b>DataManager</b> </td><td>Container for all loaded data sets (objects of class <b>Spectrum</b>)  </td></tr>\n",
    "<tr>\n",
    "<td><em>AllModels</em> </td><td><b>ModelManager</b> </td><td>Container for all <b>Model</b> objects  </td></tr>\n",
    "<tr>\n",
    "<td><em>Fit</em> </td><td><b>FitManager</b> </td><td>Manager class for setting properties and running a fit  </td></tr>\n",
    "<tr>\n",
    "<td><em>Plot</em> </td><td><b>PlotManager</b> </td><td>Manager class for performing XSPEC plots  </td></tr>\n",
    "<tr>\n",
    "<td><em>Xset</em> </td><td><b>XspecSettings</b> </td><td>Storage class for Xspec settings  </td></tr>\n",
    "</table>\n",
    "\n",
    "``PyXspec`` instantiates these objects immediately upon the importing of the ``xspec`` package. You cannot create any other objects of these class types, as they each allow only 1 instance of their type. (They are <a href=\"https://en.wikipedia.org/wiki/Singleton_pattern\">*singletons* </a>in the language of design patterns.)\n",
    "\n",
    "Operations involving these should ALWAYS be performed through the objects and NOT their class names. These class names should never appear in your code.\n",
    "\n",
    "## A Note about indexing\n",
    "\n",
    "True to its Fortran roots, ``Pyxspec`` uses a 1-based indexing when referring to model and data components.  Python uses a 0-based indexing (i.e. Python arrays start at 0).  So ``Pyxspec`` numbers the first spectrum in a group as spectrum 1, not spectrum 0.  Users should make note of this!  \n",
    "\n",
    "## Getting Help\n",
    "\n",
    "There are two ways to get help for programming with PyXspec classes. The first is by viewing the Classes section of this manual. The Classes:Class List subsection is particularly useful as an entry point, as it contains hyperlinks to descriptions of every PyXspec class that is part of the public interface. The second way is to call Python's built-in help([class]) function from the interactive Python shell. Both methods will display essentially the same information, which originates in the class docstrings in the code files.\n",
    "\n",
    "\n",
    "---\n",
    "\n",
    "Those are some of the under-the-hood details.  We'll next cover how to load spectra, define a model, fit data, plot data, and simulate spectra.\n",
    "\n",
    "----\n",
    "# Loading And Removing Data\n",
    "\n",
    "Spectral data files can be loaded in several ways. You can create an object of the `Spectrum` class by passing it the data file name.  For example, suppose you had a spectrum in a pha file called spec.pha in a subdirectory `data` of your current working directory. To create a `Spectrum` object, do:"
   ]
  },
  {
   "cell_type": "code",
   "execution_count": 8,
   "metadata": {},
   "outputs": [],
   "source": [
    "xspec.AllData.clear()  # clear out any previously loaded dataset\n",
    "s1 = xspec.Spectrum(\"data/spec.pha\")"
   ]
  },
  {
   "cell_type": "markdown",
   "metadata": {},
   "source": [
    "Creating a `Spectrum` object in this way also adds the new object `s1` to the `AllData` container. Alternatively, you can simply add the new file directly to the container without retrieving a `Spectrum` object:"
   ]
  },
  {
   "cell_type": "code",
   "execution_count": 9,
   "metadata": {},
   "outputs": [],
   "source": [
    "# add second spectrum to the container\n",
    "xspec.AllData += \"data/spec2.pha\"  # then add it to the AllData Container"
   ]
  },
  {
   "cell_type": "markdown",
   "metadata": {},
   "source": [
    "Later you can always obtain a ``Spectrum`` object reference to any of the loaded spectra by passing AllData an integer:"
   ]
  },
  {
   "cell_type": "code",
   "execution_count": 10,
   "metadata": {},
   "outputs": [],
   "source": [
    "s2 = xspec.AllData(2) # s2 is a reference to the 2nd loaded spectrum"
   ]
  },
  {
   "cell_type": "markdown",
   "metadata": {},
   "source": [
    "\n",
    "\n",
    "\n"
   ]
  },
  {
   "cell_type": "markdown",
   "metadata": {},
   "source": [
    "For more complicated data loading, you have access to the same functionality in Standard ``XSPEC``'s ``data`` command. Simply pass a string to ``AllData``:"
   ]
  },
  {
   "cell_type": "code",
   "execution_count": 11,
   "metadata": {},
   "outputs": [],
   "source": [
    "xspec.AllData.clear() # remove previously loaded file\n",
    "xspec.AllData(\"data/spec data/spec2 2:3 data/spec3\")"
   ]
  },
  {
   "cell_type": "markdown",
   "metadata": {},
   "source": [
    "Note that only the last example allows you to assign multiple data groups, the 3rd spectrum being assigned to data group 2. Also note that in the last example any previously loaded data sets are removed, thus reproducing the behavior of standard ``XSPEC``'s ``data`` command.\n",
    "\n",
    "In addition to the ``AllData.clear()`` method, other ways of removing ``Spectrum`` objects (ie. data sets) from the container are shown below.\n",
    "\n",
    "First let's load some spectral data:"
   ]
  },
  {
   "cell_type": "code",
   "execution_count": 12,
   "metadata": {},
   "outputs": [],
   "source": [
    "xspec.AllData.clear() # remove previously loaded files\n",
    "xspec.AllData(\"data/spec data/spec2 2:3 data/spec3\") # load some data\n",
    "s1 = xspec.AllData(1) # define spectrum s1\n",
    "\n"
   ]
  },
  {
   "cell_type": "markdown",
   "metadata": {},
   "source": [
    "... and then remove some of the previously-loaded data:"
   ]
  },
  {
   "cell_type": "code",
   "execution_count": 13,
   "metadata": {},
   "outputs": [],
   "source": [
    "xspec.AllData -= 3 # Removes the 3rd Spectrum object (the spectrum with index number 3) from the container.\n",
    "xspec.AllData -= s1 # Removes the Spectrum object s1.\n",
    "xspec.AllData -= \"*\" # Removes all Spectrum objects.\n",
    "\n"
   ]
  },
  {
   "cell_type": "markdown",
   "metadata": {},
   "source": [
    "You can check the current state of the AllData container at any time by doing:\n"
   ]
  },
  {
   "cell_type": "code",
   "execution_count": 14,
   "metadata": {},
   "outputs": [],
   "source": [
    "xspec.AllData(\"data/spec data/spec2 2:3 data/spec3\") # load some data\n",
    "xspec.AllData.show() # this will print in your terminal window if using an ipython/jupyter notebook"
   ]
  },
  {
   "cell_type": "markdown",
   "metadata": {},
   "source": [
    "Similarly, to view information about a single Spectrum object:\n",
    "\n"
   ]
  },
  {
   "cell_type": "code",
   "execution_count": 15,
   "metadata": {},
   "outputs": [],
   "source": [
    "s3 = xspec.AllData(3)\n",
    "s3.show()"
   ]
  },
  {
   "cell_type": "markdown",
   "metadata": {},
   "source": [
    "----\n",
    "\n",
    "# Defining Models\n",
    "\n",
    "The basic way of defining an ``XSPEC`` model is to create an object of the ``PyXspec`` class `Model`. Simply pass in a string containing a combination of 1 or more ``XSPEC`` model components. Since this uses the same syntax as ``XSPEC``'s ``model`` command, component abbreviations are allowed.\n",
    "\n",
    "\n",
    "To get a list of currently-defined models:"
   ]
  },
  {
   "cell_type": "code",
   "execution_count": null,
   "metadata": {},
   "outputs": [],
   "source": [
    "xspec.Model.showList()"
   ]
  },
  {
   "cell_type": "markdown",
   "metadata": {},
   "source": [
    "Use the standard ``XSPEC`` syntax to define a model.  Component abbreviations are allowed:"
   ]
  },
  {
   "cell_type": "code",
   "execution_count": 16,
   "metadata": {},
   "outputs": [],
   "source": [
    "m1 = xspec.Model(\"wa*po + ga\")"
   ]
  },
  {
   "cell_type": "markdown",
   "metadata": {},
   "source": [
    "\n",
    "\n",
    "\n",
    "When you define a model like this, PyXspec also automatically adds the new object to the global AllModels container. If the model is applied to multiple data groups, object copies are added to the container for each data group.\n",
    "\n",
    "Similar to the case of spectral data, you can also load models directly into the global container:\n",
    "\n"
   ]
  },
  {
   "cell_type": "code",
   "execution_count": 22,
   "metadata": {},
   "outputs": [],
   "source": [
    "# Another way to define a new model and create an object for each data group.\n",
    "xspec.AllModels += \"wa*po + ga\"\n",
    "xspec.AllModels += \"wa*(apec + pow)\"\n",
    "\n",
    "# Retrieve the model object assigned to data group 1.\n",
    "m1 = xspec.AllModels(1)\n"
   ]
  },
  {
   "cell_type": "code",
   "execution_count": 23,
   "metadata": {},
   "outputs": [],
   "source": [
    "# Various ways to remove all model objects from the container.\n",
    "xspec.AllModels.clear()\n",
    "xspec.AllModels -= \"*\""
   ]
  },
  {
   "cell_type": "markdown",
   "metadata": {},
   "source": [
    "So let's define a model:"
   ]
  },
  {
   "cell_type": "code",
   "execution_count": 27,
   "metadata": {},
   "outputs": [],
   "source": [
    "\n",
    "xspec.AllModels.clear() # clear previously defined models\n",
    "xspec.AllModels += \"wa*po + ga\"\n",
    "xspec.AllModels += \"wa*(apec + pow)\"\n"
   ]
  },
  {
   "cell_type": "markdown",
   "metadata": {},
   "source": [
    "To display models and their parameters:"
   ]
  },
  {
   "cell_type": "code",
   "execution_count": 28,
   "metadata": {},
   "outputs": [],
   "source": [
    "m1=xspec.AllModels(1)\n",
    "m1.show()"
   ]
  },
  {
   "cell_type": "code",
   "execution_count": 31,
   "metadata": {},
   "outputs": [],
   "source": [
    "# then show them\n",
    "xspec.AllModels.show()"
   ]
  },
  {
   "cell_type": "code",
   "execution_count": 165,
   "metadata": {
    "collapsed": true
   },
   "outputs": [],
   "source": [
    "# While this displays just parameters 1,2,3 and 5:\n",
    "xspec.AllModels.show(\"1-3, 5\")"
   ]
  },
  {
   "cell_type": "code",
   "execution_count": 166,
   "metadata": {},
   "outputs": [],
   "source": [
    "# This displays a single model object:\n",
    "m1 = xspec.AllModels(1)\n",
    "m1.show()"
   ]
  },
  {
   "cell_type": "markdown",
   "metadata": {},
   "source": [
    "For defining mulitple (or named) models and assigning multiple sources, please see the ``Extended Tutorial``.\n",
    "\n",
    "## Component and Parameter Objects\n",
    "\n",
    "Model objects contain Component objects and Component objects contain Parameter objects. There are several ways to access and set components and parameters individually (and if you want to change many parameter values at once, it may be faster to use the Model or AllModels setPars methods described in the next section). Examples of individual Component and Parameter object access are shown below.\n",
    "\n"
   ]
  },
  {
   "cell_type": "markdown",
   "metadata": {},
   "source": [
    "Accessing components by name:"
   ]
  },
  {
   "cell_type": "code",
   "execution_count": 17,
   "metadata": {},
   "outputs": [
    {
     "name": "stdout",
     "output_type": "stream",
     "text": [
      "['PhoIndex', 'norm']\n"
     ]
    }
   ],
   "source": [
    "# Component objects are accessible-by-name as Model object attributes:\n",
    "comp1 = m1.wabs\n",
    "comp2 = m1.powerlaw\n",
    "print comp2.parameterNames"
   ]
  },
  {
   "cell_type": "markdown",
   "metadata": {},
   "source": [
    "Accessing component parameters by name:"
   ]
  },
  {
   "cell_type": "code",
   "execution_count": 18,
   "metadata": {},
   "outputs": [
    {
     "name": "stdout",
     "output_type": "stream",
     "text": [
      "Photon Index currently set to 1.0\n"
     ]
    }
   ],
   "source": [
    "# Parameter objects are accessible-by-name as Component object attributes:\n",
    "par6 = m1.powerlaw.PhoIndex\n",
    "par6orig = par6.values[0]\n",
    "print \"Photon Index currently set to {0}\".format(par6.values[0])"
   ]
  },
  {
   "cell_type": "markdown",
   "metadata": {},
   "source": [
    "Modifying parameter values"
   ]
  },
  {
   "cell_type": "code",
   "execution_count": 35,
   "metadata": {},
   "outputs": [
    {
     "name": "stdout",
     "output_type": "stream",
     "text": [
      "Photon Index was 1.0, now set to 3.5\n"
     ]
    }
   ],
   "source": [
    "# ...and we can modify their values:\n",
    "par6.values = 3.5\n",
    "print \"Photon Index was {0}, now set to {1}\".format(par6orig, par6.values[0])\n",
    "m1.wabs.nH = 5.0\n",
    "comp2.PhoIndex = 1.5"
   ]
  },
  {
   "cell_type": "markdown",
   "metadata": {},
   "source": [
    "You can also get a Parameter object directly from a Model, without going through a Component.\n",
    "Just pass the Model the Parameter index number:"
   ]
  },
  {
   "cell_type": "code",
   "execution_count": 36,
   "metadata": {},
   "outputs": [
    {
     "name": "stdout",
     "output_type": "stream",
     "text": [
      "Parameter 5 name = 'norm'.  Hi norm!\n"
     ]
    }
   ],
   "source": [
    "# \n",
    "par5 = m1(5)\n",
    "print \"Parameter 5 name = '{0}'.  Hi {0}!\".format(par5.name)"
   ]
  },
  {
   "cell_type": "markdown",
   "metadata": {},
   "source": [
    "Some examples of numerical operations allowed with Parameter objects:"
   ]
  },
  {
   "cell_type": "code",
   "execution_count": 37,
   "metadata": {},
   "outputs": [],
   "source": [
    "par4 = m1(4)\n",
    "par4 += 0.75 # increment parameter 4 by 0.75\n",
    "par4 *= 2.0 # multiply parameter 4 value by 2.0\n",
    "y1 = m1.wabs.nH*100.0 # set y1 to 100x the column density of model m1\n",
    "y2 = par4 + par5 # set y2 to the sum of par4 + par 5"
   ]
  },
  {
   "cell_type": "code",
   "execution_count": 38,
   "metadata": {},
   "outputs": [
    {
     "data": {
      "text/plain": [
       "[1.5, -0.015, -0.999, -0.999, 10.0, 10.0]"
      ]
     },
     "execution_count": 38,
     "metadata": {},
     "output_type": "execute_result"
    }
   ],
   "source": [
    "par4.values"
   ]
  },
  {
   "cell_type": "markdown",
   "metadata": {},
   "source": [
    "(*For models with duplicate copies of components, see the ``Extended Tutorial`` for accessing Component objects by name.)\n",
    "\n",
    "Note that in the above examples, only the parameter's value is being accessed or modified. To change all or part of its FULL list of settings (including auxiliary values: value, fit delta, min, bot, top, max), you can set its values attribute to a tuple or list of size 1-6:\n"
   ]
  },
  {
   "cell_type": "code",
   "execution_count": 39,
   "metadata": {},
   "outputs": [],
   "source": [
    "par4.values = 4.3, .01, 1e-3\n",
    "par4.values = [4.3, .01, 1e-3, 1e-2, 100, 200]"
   ]
  },
  {
   "cell_type": "markdown",
   "metadata": {},
   "source": [
    "Or for greater flexibility you can set it to a string using Standard XSPEC's newpar command syntax:"
   ]
  },
  {
   "cell_type": "code",
   "execution_count": 40,
   "metadata": {},
   "outputs": [],
   "source": [
    "# This allows you to set new values non-consecutively.\n",
    "par4.values = \"1.0, -.01,,,,150\""
   ]
  },
  {
   "cell_type": "markdown",
   "metadata": {},
   "source": [
    "A quick way to freeze or thaw a parameter is to toggle its frozen attribute:\n",
    "\n",
    "\n"
   ]
  },
  {
   "cell_type": "code",
   "execution_count": 41,
   "metadata": {},
   "outputs": [],
   "source": [
    "par4.frozen = False\n",
    "par5.frozen = True"
   ]
  },
  {
   "cell_type": "markdown",
   "metadata": {},
   "source": [
    "To link a parameter to one or more others, set its link attribute to a link expression string as you would have with the newpar command. To remove the link, set link to an empty string or call the parameter's untie method.\n",
    "\n",
    "\n"
   ]
  },
  {
   "cell_type": "code",
   "execution_count": 42,
   "metadata": {},
   "outputs": [],
   "source": [
    "par5.link = \"2.3 * 4\" # Link par 5 to par 4 with a multiplicative constant.\n",
    "par5.link = \"\" # Removes the link.\n",
    "par5.untie() # Also removes the link.\n"
   ]
  },
  {
   "cell_type": "markdown",
   "metadata": {},
   "source": [
    "Also ALL linked parameters in a model object can be untied with a single call to the Model class untie method, as show below."
   ]
  },
  {
   "cell_type": "code",
   "execution_count": 21,
   "metadata": {},
   "outputs": [],
   "source": [
    "m1.untie()"
   ]
  },
  {
   "cell_type": "markdown",
   "metadata": {},
   "source": [
    "To display a parameter's full set of values (including auxiliary values), just print its values attribute:"
   ]
  },
  {
   "cell_type": "code",
   "execution_count": 43,
   "metadata": {},
   "outputs": [
    {
     "name": "stdout",
     "output_type": "stream",
     "text": [
      "The value of Parameter 4 and its auxiliary values are: [1.0, 0.01, 0.001, 0.01, 100.0, 150.0]\n",
      "\n",
      "Current value = 1.0\n",
      "Current delta = 0.01\n",
      "Current soft minimum = 0.001\n",
      "Current hard minimum = 0.01\n",
      "Current soft maximum = 100.0\n",
      "Current hard maximum = 150.0\n"
     ]
    }
   ],
   "source": [
    "print \"The value of Parameter 4 and its auxiliary values are: {0}\".format(par4.values)\n",
    "print \"\\nCurrent value = {0}\".format(par4.values[0])\n",
    "print \"Current delta = {0}\".format(par4.values[1])\n",
    "print \"Current soft minimum = {0}\".format(par4.values[2])\n",
    "print \"Current hard minimum = {0}\".format(par4.values[3])\n",
    "print \"Current soft maximum = {0}\".format(par4.values[4])\n",
    "print \"Current hard maximum = {0}\".format(par4.values[5])"
   ]
  },
  {
   "cell_type": "markdown",
   "metadata": {},
   "source": [
    "##  Setting Multiple Parameters At A Time\n",
    "\n",
    "You can set multiple parameter values with a single call using the Model or AllModels setPars methods. This may be considerably faster than setting parameters one at a time through the individual Parameter objects as shown in the previous section. With setPars, the model will be recalculated just ONCE after all the changes have been made. But when setting through individual Parameter objects, the model will be recalculated after EACH parameter change.\n",
    "\n",
    "\n"
   ]
  },
  {
   "cell_type": "code",
   "execution_count": 178,
   "metadata": {
    "collapsed": true
   },
   "outputs": [],
   "source": [
    "# For Model object m1, supply 1 or more new parameter values in consecutive order:\n",
    "m1.setPars(2.5, 1.4, 1.0e3) # This changes pars 1, 2, and 3.\n"
   ]
  },
  {
   "cell_type": "code",
   "execution_count": 179,
   "metadata": {},
   "outputs": [],
   "source": [
    "# Can also change paramater auxiliary values by passing a string using the same\n",
    "# syntax as with Standard XSPEC's newpar command:\n",
    "m1.setPars(.95, \"1.8,,-5,-4,10,10\")"
   ]
  },
  {
   "cell_type": "code",
   "execution_count": 180,
   "metadata": {
    "collapsed": true
   },
   "outputs": [],
   "source": [
    "# Now set parameters NON-CONSECUTIVELY by passing a Python dictionary object.\n",
    "# This example changes pars 1, 2, 4, and 6:\n",
    "m1.setPars(.95, 1.2, {4:9.8, 6:2.0})\n"
   ]
  },
  {
   "cell_type": "markdown",
   "metadata": {},
   "source": [
    "Parameters can also be initialized by passing values to the Model object constructor. You do this by setting the Model constructor's setPars keyword argument to a tuple, list, or dictionary (or just a single value or string if only setting the first parameter):"
   ]
  },
  {
   "cell_type": "code",
   "execution_count": 181,
   "metadata": {},
   "outputs": [],
   "source": [
    "# Supply values for parameters 1 and 3, use defaults for the rest.\n",
    "m = xspec.Model(\"wa*ga\", setPars={1:1.5, 3:.2})"
   ]
  },
  {
   "cell_type": "code",
   "execution_count": 182,
   "metadata": {
    "collapsed": true
   },
   "outputs": [],
   "source": [
    "# Supply values for 1 and 2, use defaults for the rest.\n",
    "m = xspec.Model(\"wa*ga\", setPars=(1.5, 0.7))"
   ]
  },
  {
   "cell_type": "code",
   "execution_count": 183,
   "metadata": {
    "collapsed": true
   },
   "outputs": [],
   "source": [
    "# Supply value only for 1.\n",
    "m = xspec.Model(\"wa*ga\", setPars=1.5)"
   ]
  },
  {
   "cell_type": "markdown",
   "metadata": {},
   "source": [
    "Finally, if you wish to set multiple parameters that belong to different model objects, you must use the AllModels container's `setPars` method. This is a quick way to change multiple parameter values at a time\n",
    "since only a **SINGLE** recalculation will be performed at the end.\n",
    "In contrast, when parameter values are changed through the individual \n",
    "parameter objects, the model is recalculated after EACH parameter\n",
    "change.  (If all the parameters belong to a single model object,\n",
    "you can also use the Model.setPars() function.)This follows the same syntax rules as the single Model setPars, except that you also supply the Model objects as arguments:\n",
    "\n"
   ]
  },
  {
   "cell_type": "code",
   "execution_count": 191,
   "metadata": {},
   "outputs": [
    {
     "name": "stdout",
     "output_type": "stream",
     "text": [
      "Value of Parameter 1 in m1 = 6.40, and in m2 = 6.70\n",
      "Value of Parameter 3 in m1 = 1.78, and in m2 = 5.50\n"
     ]
    }
   ],
   "source": [
    "#\n",
    "# Load 2 spectra into 2 separate data groups\n",
    "#\n",
    "xspec.AllData.clear()\n",
    "xspec.AllData += \"data/spec.pha\" # read spectrum into first data group\n",
    "# Explicitly specify the response if necessary\n",
    "xspec.AllData(1).response = \"data/spec.rmf\" # this response include the effective area (ARF) information\n",
    "\n",
    "xspec.AllData(\"2:2 data/spec_sim.pha\") # read spectrum into data group 2\n",
    "# Explicitly specify the response, if necessary\n",
    "xspec.AllData(2).response = \"data/spec3.rmf\" # response includes the ARF already\n",
    "\n",
    "#\n",
    "# use AllModels.setPars to Change pars 1 and 3 in m1, and pars 1 and 2 in m2\n",
    "#\n",
    "xspec.AllModels.clear() # clear previous models\n",
    "xspec.AllModels += \"gauss + pow\"\n",
    "xspec.AllModels += \"TBabs*apec\"\n",
    "m1 = xspec.AllModels(1)\n",
    "m2 = xspec.AllModels(2)\n",
    "xspec.AllModels.setPars(m1, {1:6.4, 3:1.78}, m2, {1:6.7, 3:5.5})\n",
    "print \"Value of Parameter 1 in m1 = {0:3.2f}, and in m2 = {1:3.2f}\".format(m1(1).values[0], m2(1).values[0])\n",
    "print \"Value of Parameter 3 in m1 = {0:3.2f}, and in m2 = {1:3.2f}\".format(m1(3).values[0], m2(3).values[0])"
   ]
  },
  {
   "cell_type": "markdown",
   "metadata": {},
   "source": [
    "----\n",
    "\n",
    "# Fitting\n",
    "\n",
    "Once data and models are loaded, you can fit the model to the data usint the Fit object.  First you probably want to adjust the fitting parameters:\n",
    "\n",
    "\n",
    "\n"
   ]
  },
  {
   "cell_type": "code",
   "execution_count": null,
   "metadata": {},
   "outputs": [],
   "source": [
    "xspec.Fit.nIterations = 100"
   ]
  },
  {
   "cell_type": "markdown",
   "metadata": {},
   "source": [
    "You can set an appropriate fit statistic (``cstat``, ``chi``, etc) by assigning a value to ``xspec.Fit.statMethod``.  Below we use the ``cstat`` statistic"
   ]
  },
  {
   "cell_type": "code",
   "execution_count": 44,
   "metadata": {},
   "outputs": [],
   "source": [
    "xspec.Fit.statMethod = \"cstat\""
   ]
  },
  {
   "cell_type": "markdown",
   "metadata": {},
   "source": [
    "Fitting is performed by calling the perform method of the Fit global object:"
   ]
  },
  {
   "cell_type": "code",
   "execution_count": 192,
   "metadata": {
    "collapsed": true
   },
   "outputs": [],
   "source": [
    "xspec.Fit.perform()"
   ]
  },
  {
   "cell_type": "markdown",
   "metadata": {},
   "source": [
    "To display the fit results at any time:"
   ]
  },
  {
   "cell_type": "code",
   "execution_count": 112,
   "metadata": {
    "collapsed": true
   },
   "outputs": [],
   "source": [
    "xspec.Fit.show()"
   ]
  },
  {
   "cell_type": "markdown",
   "metadata": {},
   "source": [
    "Please see the class reference guide and the ``Extended Tutorial`` for `Fit`'s complete functionality."
   ]
  },
  {
   "cell_type": "markdown",
   "metadata": {},
   "source": [
    "____\n",
    "\n",
    "# Plotting\n",
    "\n",
    "In Standard XSPEC, plot settings are adjusted using the ``setplot`` command while the plot is displayed through the plot command. In PyXspec, all plot settings and functionality is handled through the global Plot object. A device must be set before any plots can be displayed, and this done through the device attribute:\n",
    "\n",
    "`xspec.Plot.device = \"/xs\"`\n",
    "\n",
    "The device can also be set to print to an output file in several formats. The list of possible devices is given by the ``cpd`` command in the Standard XSPEC manual.\n",
    "\n",
    "A typical setting to adjust is the X-axis units. You can choose to plot channel numbers, or select from various energy and wavelength units. The strings can also be abbreviated. Examples:\n",
    "\n",
    "```\n",
    "xspec.Plot.xAxis = \"channel\"\n",
    "xspec.Plot.xAxis = \"MeV\"\n",
    "xspec.Plot.xAxis = \"Hz\"\n",
    "xspec.Plot.xAxis = \"angstrom\"\n",
    "```\n",
    "\n",
    "The displays of individual additive components or background spectra is toggled by setting their attributes to a bool:\n",
    "\n",
    "```\n",
    "xspec.Plot.add = True\n",
    "xspec.Plot.background = False\n",
    "```\n",
    "\n",
    "Similarly log/linear settings for data plots (when using energy or wavelength units):\n",
    "\n",
    "```\n",
    "xspec.Plot.xLog = True\n",
    "xspec.Plot.yLog = False\n",
    "```\n",
    "\n",
    "The current plot settings are displayed with:\n",
    "\n",
    "`xspec.Plot.show()`\n",
    "\n",
    "To actually display a plot, send 1 or more string arguments to the ``xspec.Plot`` ``__call__`` method.  Some examples:\n"
   ]
  },
  {
   "cell_type": "markdown",
   "metadata": {},
   "source": [
    "* Single panel plots vs. Energy in keV:"
   ]
  },
  {
   "cell_type": "code",
   "execution_count": 45,
   "metadata": {},
   "outputs": [],
   "source": [
    "xspec.Plot.xAxis = \"keV\"\n",
    "xspec.Plot.device = \"/xs\"\n",
    "xspec.Plot.setRebin = \"3., 10\" # rebin the data in the plot \n",
    "xspec.Plot(\"ldata\")"
   ]
  },
  {
   "cell_type": "markdown",
   "metadata": {},
   "source": [
    "* plot the model to a single panel"
   ]
  },
  {
   "cell_type": "code",
   "execution_count": 194,
   "metadata": {
    "collapsed": true
   },
   "outputs": [],
   "source": [
    "xspec.Plot(\"model\")"
   ]
  },
  {
   "cell_type": "markdown",
   "metadata": {},
   "source": [
    "* plot the unfolded spectrum"
   ]
  },
  {
   "cell_type": "code",
   "execution_count": 46,
   "metadata": {},
   "outputs": [],
   "source": [
    "xspec.Plot(\"ufspec\")"
   ]
  },
  {
   "cell_type": "markdown",
   "metadata": {},
   "source": [
    "For multi-panel plots, simply add another plot type to the call to ``xspec.Plot``:"
   ]
  },
  {
   "cell_type": "code",
   "execution_count": 94,
   "metadata": {
    "collapsed": true
   },
   "outputs": [],
   "source": [
    "# Multi panel plots\n",
    "xspec.Plot(\"data chisq\")\n"
   ]
  },
  {
   "cell_type": "code",
   "execution_count": 96,
   "metadata": {},
   "outputs": [],
   "source": [
    "xspec.Plot(\"data\",\"model\",\"resid\")"
   ]
  },
  {
   "cell_type": "markdown",
   "metadata": {},
   "source": [
    "* Calling ``xspec.Plot()`` with no arguments repeats the previous plot command"
   ]
  },
  {
   "cell_type": "code",
   "execution_count": 48,
   "metadata": {},
   "outputs": [],
   "source": [
    "xspec.Plot()"
   ]
  },
  {
   "cell_type": "markdown",
   "metadata": {},
   "source": [
    "After displaying a plot, you can get an array of the plotted values by calling one of ``xspec.Plot``'s retrieval methods. All of these functions take an optional plot group number argument for the case of multiple plot groups, and all return the plot values in a Python list."
   ]
  },
  {
   "cell_type": "code",
   "execution_count": 50,
   "metadata": {},
   "outputs": [
    {
     "data": {
      "text/plain": [
       "[<matplotlib.lines.Line2D at 0x1164fe950>]"
      ]
     },
     "execution_count": 50,
     "metadata": {},
     "output_type": "execute_result"
    },
    {
     "data": {
      "image/png": "[encoded data removed]",
      "text/plain": [
       "<Figure size 432x288 with 1 Axes>"
      ]
     },
     "metadata": {},
     "output_type": "display_data"
    }
   ],
   "source": [
    "xspec.Plot(\"data\")\n",
    "xVals = xspec.Plot.x()\n",
    "yVals = xspec.Plot.y()\n",
    "yVals2 = xspec.Plot.y(1) # Gets values for data in the first plot group\n",
    "modVals = xspec.Plot.model()\n",
    "plt.plot(xVals, yVals)"
   ]
  },
  {
   "cell_type": "markdown",
   "metadata": {},
   "source": [
    "You can get the background array for plotting but you need to set the ``xspec.Plot.background`` attribute to True first:"
   ]
  },
  {
   "cell_type": "code",
   "execution_count": 51,
   "metadata": {},
   "outputs": [],
   "source": [
    "xspec.Plot.background = True\n",
    "xspec.Plot(\"data\")\n",
    "bkg = xspec.Plot.backgroundVals()"
   ]
  },
  {
   "cell_type": "markdown",
   "metadata": {},
   "source": [
    "You can also get the error array values for the X and Y axes:"
   ]
  },
  {
   "cell_type": "code",
   "execution_count": 52,
   "metadata": {},
   "outputs": [],
   "source": [
    "# Retrieve error arrays\n",
    "xErrs = xspec.Plot.xErr()\n",
    "yErrs = xspec.Plot.yErr()"
   ]
  },
  {
   "cell_type": "markdown",
   "metadata": {},
   "source": [
    "----\n",
    "\n",
    "# Simulating Spectra\n",
    "\n",
    "You can also create simulated spectra with PyXspec just as in the non-Python version.  The steps are very similar: define a model; read in an instrument response; then convolve the model through the response using the ``AllData`` container's ``Fakeit`` method "
   ]
  },
  {
   "cell_type": "markdown",
   "metadata": {},
   "source": [
    "## Clear any previously loaded data and models"
   ]
  },
  {
   "cell_type": "code",
   "execution_count": 8,
   "metadata": {},
   "outputs": [],
   "source": [
    "#\n",
    "# create simulated spectrum; first clear any previously loaded data and models\n",
    "#\n",
    "xspec.AllData.clear() \n",
    "xspec.AllModels.clear()"
   ]
  },
  {
   "cell_type": "markdown",
   "metadata": {},
   "source": [
    "## Define A Model"
   ]
  },
  {
   "cell_type": "code",
   "execution_count": 16,
   "metadata": {},
   "outputs": [],
   "source": [
    "mo = xspec.Model(\"tbabs*(apec + gauss + pow)\")\n",
    "# set parameter 1 (NH), 2 (kT), 5 (norm), 7 (sigma) 8 (line norm) and 10 (power law norm) to reasonable cosmic values\n",
    "mo.setPars({1:4}, {2:50}, {5:0.01}, {7:0.01}, {8:1e-2}, {10:.1}) "
   ]
  },
  {
   "cell_type": "markdown",
   "metadata": {},
   "source": [
    "## Run ``xspec.AllData.fakeit()``"
   ]
  },
  {
   "cell_type": "code",
   "execution_count": 17,
   "metadata": {},
   "outputs": [],
   "source": [
    "expo = 1e5 # use an exposure time of 100,000 seconds\n",
    "fs = xspec.FakeitSettings(response = 'data/spec3.rmf', background='data/spec3_bkg.pha', exposure=str(expo), \n",
    "                         fileName='data/spec_sim.pha')\n",
    "xspec.AllData.fakeit(1,fs)"
   ]
  },
  {
   "cell_type": "markdown",
   "metadata": {},
   "source": [
    "## Plot the Data\n",
    "\n",
    "Let's plot the simulated data in Python"
   ]
  },
  {
   "cell_type": "code",
   "execution_count": 15,
   "metadata": {},
   "outputs": [
    {
     "data": {
      "text/plain": [
       "[<matplotlib.lines.Line2D at 0x1161499d0>]"
      ]
     },
     "execution_count": 15,
     "metadata": {},
     "output_type": "execute_result"
    },
    {
     "data": {
      "image/png": "[encoded data removed]",
      "text/plain": [
       "<Figure size 432x288 with 1 Axes>"
      ]
     },
     "metadata": {},
     "output_type": "display_data"
    }
   ],
   "source": [
    "pha = xspec.AllData(1)\n",
    "xspec.Plot.device=\"/null\"\n",
    "xspec.Plot.setRebin = \"3., 10\"\n",
    "xspec.Plot.xAxis = 'keV'\n",
    "xspec.Plot('data')\n",
    "yscale('log')\n",
    "ylim(0.0001,1)\n",
    "xlabel('Energy (keV)')\n",
    "ylabel('Normalized Cts/s/keV')\n",
    "plot(xspec.Plot.x(1), xspec.Plot.y(1))"
   ]
  }
 ],
 "metadata": {
  "kernelspec": {
   "display_name": "Python 2",
   "language": "python",
   "name": "python2"
  },
  "language_info": {
   "codemirror_mode": {
    "name": "ipython",
    "version": 2
   },
   "file_extension": ".py",
   "mimetype": "text/x-python",
   "name": "python",
   "nbconvert_exporter": "python",
   "pygments_lexer": "ipython2",
   "version": "2.7.14"
  },
  "nav_menu": {},
  "toc": {
   "navigate_menu": true,
   "number_sections": false,
   "sideBar": true,
   "threshold": 6,
   "toc_cell": false,
   "toc_section_display": "block",
   "toc_window_display": false
  }
 },
 "nbformat": 4,
 "nbformat_minor": 1
}
